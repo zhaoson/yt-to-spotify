{
 "cells": [
  {
   "cell_type": "code",
   "execution_count": 25,
   "metadata": {},
   "outputs": [],
   "source": [
    "import pandas as pd\n",
    "import spotipy \n",
    "from spotipy.oauth2 import SpotifyOAuth\n",
    "import configparser\n",
    "from difflib import SequenceMatcher # For similarity of strings\n",
    "import time"
   ]
  },
  {
   "cell_type": "code",
   "execution_count": 2,
   "metadata": {},
   "outputs": [],
   "source": [
    "parser = configparser.ConfigParser()\n",
    "\n",
    "parser.read('credentials.conf')\n",
    "username = parser.get('spotify_config', 'username')\n",
    "client_id = parser.get('spotify_config', 'client_id')\n",
    "client_secret = parser.get('spotify_config', 'client_secret')"
   ]
  },
  {
   "cell_type": "code",
   "execution_count": 3,
   "metadata": {},
   "outputs": [],
   "source": [
    "sp = spotipy.Spotify(auth_manager=SpotifyOAuth(\n",
    "    client_id=client_id,\n",
    "    client_secret=client_secret,\n",
    "    redirect_uri='http://localhost:8080/',\n",
    "    scope ='playlist-modify-private,playlist-modify,playlist-read-private'))"
   ]
  },
  {
   "cell_type": "code",
   "execution_count": 4,
   "metadata": {},
   "outputs": [],
   "source": [
    "playlists = sp.user_playlists(username)\n",
    "\n",
    "playlist_names = [item['name'] for item in playlists['items']]\n",
    "playlist_ids = [item['id'] for item in playlists['items']]\n",
    "names_to_ids = dict(zip(playlist_names, playlist_ids))\n",
    "\n",
    "new_playlist = 'YOASOBI-yt'\n",
    "\n",
    "if new_playlist in playlist_names:\n",
    "    chosen_playlist_id = names_to_ids[new_playlist]\n",
    "else:\n",
    "    created_playlist = sp.user_playlist_create(username, name=new_playlist, public=False)\n",
    "    chosen_playlist_id = created_playlist['id']"
   ]
  },
  {
   "cell_type": "code",
   "execution_count": 5,
   "metadata": {},
   "outputs": [],
   "source": [
    "df = pd.read_csv('data/yt_titles.csv')"
   ]
  },
  {
   "cell_type": "code",
   "execution_count": 16,
   "metadata": {},
   "outputs": [],
   "source": [
    "def similar(name1, name2):\n",
    "    ''' \n",
    "    TODO documentation\n",
    "    '''\n",
    "    return SequenceMatcher(None, name1, name2).ratio()"
   ]
  },
  {
   "cell_type": "code",
   "execution_count": 23,
   "metadata": {},
   "outputs": [],
   "source": [
    "def choose_track(track1, track2, song_name):\n",
    "    ''' \n",
    "    TODO documentation\n",
    "    '''\n",
    "    track1_similarity = similar(song_name, track1)\n",
    "    track2_similarity = similar(song_name, track2)\n",
    "\n",
    "    if track1_similarity >= track2_similarity:\n",
    "        return 0\n",
    "    return 1"
   ]
  },
  {
   "cell_type": "code",
   "execution_count": 24,
   "metadata": {},
   "outputs": [],
   "source": [
    "songs_to_add = []\n",
    "\n",
    "for i in range(df.shape[0]):\n",
    "    song_name = df['video_title'][i]\n",
    "\n",
    "    potential_tracks = sp.search(q=f'{song_name}', type='track', market = 'CA')\n",
    "    track_index = choose_track(\n",
    "        track1=potential_tracks['tracks']['items'][0]['name'],\n",
    "        track2=potential_tracks['tracks']['items'][1]['name'],\n",
    "        song_name=song_name\n",
    "    )\n",
    "\n",
    "    songs_to_add.append(potential_tracks['tracks']['items'][track_index]['id'])\n",
    "    time.sleep(3)"
   ]
  },
  {
   "cell_type": "code",
   "execution_count": 26,
   "metadata": {},
   "outputs": [
    {
     "data": {
      "text/plain": [
       "['7ydiBXSeyMcdDdvXM89VLE',\n",
       " '4BE1OloRc9xwjyqA4wFFuN',\n",
       " '3dPtXHP0oXQ4HCWHsOA9js',\n",
       " '0T4AitQuq8IJhWBWuZwkFA',\n",
       " '3QXl80080U9z3pmMDWaYLv',\n",
       " '0loZ1KfQSLJxYR0Y7dImKN',\n",
       " '5hVAQTNarrb3lmWqg9Ens4',\n",
       " '19fhOFi6pNGeZe5uiFlm7c',\n",
       " '2YbNZLoiREBYZo4HeKB8Np',\n",
       " '6EuubEs5qOmJdpNhkU47OZ',\n",
       " '2YbRWFyb8RiQNsd7uQ91Tz']"
      ]
     },
     "execution_count": 26,
     "metadata": {},
     "output_type": "execute_result"
    }
   ],
   "source": [
    "songs_to_add"
   ]
  },
  {
   "cell_type": "code",
   "execution_count": null,
   "metadata": {},
   "outputs": [],
   "source": []
  }
 ],
 "metadata": {
  "kernelspec": {
   "display_name": "Python 3.10.8 ('yt_env')",
   "language": "python",
   "name": "python3"
  },
  "language_info": {
   "codemirror_mode": {
    "name": "ipython",
    "version": 3
   },
   "file_extension": ".py",
   "mimetype": "text/x-python",
   "name": "python",
   "nbconvert_exporter": "python",
   "pygments_lexer": "ipython3",
   "version": "3.10.8"
  },
  "orig_nbformat": 4,
  "vscode": {
   "interpreter": {
    "hash": "974fc9e5f6511992b9456f19013d70f2d8dfdcc1db35eb45373bcd61709d3b60"
   }
  }
 },
 "nbformat": 4,
 "nbformat_minor": 2
}
