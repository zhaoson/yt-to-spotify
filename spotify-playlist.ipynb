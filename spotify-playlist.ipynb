{
 "cells": [
  {
   "cell_type": "code",
   "execution_count": 1,
   "metadata": {},
   "outputs": [],
   "source": [
    "import pandas as pd\n",
    "import spotipy \n",
    "from spotipy.oauth2 import SpotifyOAuth\n",
    "import configparser"
   ]
  },
  {
   "cell_type": "code",
   "execution_count": null,
   "metadata": {},
   "outputs": [],
   "source": [
    "parser = configparser.ConfigParser()\n",
    "\n",
    "parser.read('credentials.conf')\n",
    "username = parser.get('spotify_config', 'username')\n",
    "client_id = parser.get('spotify_config', 'client_id')\n",
    "client_secret = parser.get('spotify_config', 'client_secret')"
   ]
  },
  {
   "cell_type": "code",
   "execution_count": 3,
   "metadata": {},
   "outputs": [],
   "source": [
    "sp = spotipy.Spotify(auth_manager=SpotifyOAuth(\n",
    "    client_id=client_id,\n",
    "    client_secret=client_secret,\n",
    "    redirect_uri='http://localhost:8080/',\n",
    "    scope ='playlist-modify-private,playlist-modify'))"
   ]
  },
  {
   "cell_type": "code",
   "execution_count": 5,
   "metadata": {},
   "outputs": [
    {
     "data": {
      "text/plain": [
       "{'collaborative': False,\n",
       " 'description': '',\n",
       " 'external_urls': {'spotify': 'https://open.spotify.com/playlist/2lUyZOt2yNJ4c2R4eX0idd'},\n",
       " 'followers': {'href': None, 'total': 0},\n",
       " 'href': 'https://api.spotify.com/v1/playlists/2lUyZOt2yNJ4c2R4eX0idd',\n",
       " 'id': '2lUyZOt2yNJ4c2R4eX0idd',\n",
       " 'images': [],\n",
       " 'name': 'test',\n",
       " 'owner': {'display_name': 'zhaoson',\n",
       "  'external_urls': {'spotify': 'https://open.spotify.com/user/ybeuzkky0rqpicqou1ftm0g2r'},\n",
       "  'href': 'https://api.spotify.com/v1/users/ybeuzkky0rqpicqou1ftm0g2r',\n",
       "  'id': 'ybeuzkky0rqpicqou1ftm0g2r',\n",
       "  'type': 'user',\n",
       "  'uri': 'spotify:user:ybeuzkky0rqpicqou1ftm0g2r'},\n",
       " 'primary_color': None,\n",
       " 'public': True,\n",
       " 'snapshot_id': 'MSw5MWFlNzhhNzE2YWM4YzM5OGMzMjYyMGRiMDdlNjU1MmFlMjU1YzBi',\n",
       " 'tracks': {'href': 'https://api.spotify.com/v1/playlists/2lUyZOt2yNJ4c2R4eX0idd/tracks',\n",
       "  'items': [],\n",
       "  'limit': 100,\n",
       "  'next': None,\n",
       "  'offset': 0,\n",
       "  'previous': None,\n",
       "  'total': 0},\n",
       " 'type': 'playlist',\n",
       " 'uri': 'spotify:playlist:2lUyZOt2yNJ4c2R4eX0idd'}"
      ]
     },
     "execution_count": 5,
     "metadata": {},
     "output_type": "execute_result"
    }
   ],
   "source": [
    "\n",
    "\n",
    "# TODO: Extract playlist name from data instead of hardcoding it in\n",
    "sp.user_playlist_create(username, name = \"YOASOBI\", public = False)"
   ]
  },
  {
   "cell_type": "code",
   "execution_count": null,
   "metadata": {},
   "outputs": [],
   "source": []
  }
 ],
 "metadata": {
  "kernelspec": {
   "display_name": "Python 3.10.8 ('yt_env')",
   "language": "python",
   "name": "python3"
  },
  "language_info": {
   "codemirror_mode": {
    "name": "ipython",
    "version": 3
   },
   "file_extension": ".py",
   "mimetype": "text/x-python",
   "name": "python",
   "nbconvert_exporter": "python",
   "pygments_lexer": "ipython3",
   "version": "3.10.8"
  },
  "orig_nbformat": 4,
  "vscode": {
   "interpreter": {
    "hash": "974fc9e5f6511992b9456f19013d70f2d8dfdcc1db35eb45373bcd61709d3b60"
   }
  }
 },
 "nbformat": 4,
 "nbformat_minor": 2
}
